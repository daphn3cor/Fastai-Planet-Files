{
  "cells": [
    {
      "metadata": {
        "_uuid": "8f2839f25d086af736a60e9eeb907d3b93b6e0e5",
        "_cell_guid": "b1076dfc-b9ad-4769-8c92-a6c4dae69d19",
        "trusted": true,
        "collapsed": true
      },
      "cell_type": "markdown",
      "source": "## Fast.ai Week 3: Downloading the Planet Files \n\nIn this notebook we walk through how and what to install for the fast.ai week 2 (image_models) notebook."
    },
    {
      "metadata": {
        "_uuid": "8ed2fe0978cc74d9a17d3703978a2364c31a2790"
      },
      "cell_type": "markdown",
      "source": "### Step 0) What do we need?\n\n[This](https://www.kaggle.com/c/planet-understanding-the-amazon-from-space/data) is the Kaggle page where we get the data from.\n\nFor this weeks' notebook we need the following files:\n- test.jpg.tar.7z\n- train.jpg.tar.7z\n- train_v2.csv.zip\n\nIf you are new to terminal and want to know more about the commands, [these](https://www.youtube.com/watch?v=eH8Z9zeywq0) videos are quite good for giving you a bit more intuition."
    },
    {
      "metadata": {
        "_cell_guid": "79c7e3d0-c299-4dcb-8224-4455121ee9b0",
        "collapsed": true,
        "_uuid": "d629ff2d2480ee46fbb7e2d37f6b5fab8052498a",
        "trusted": false
      },
      "cell_type": "markdown",
      "source": "### Step 1) Open terminal via Paperspace\n\n- log in via paperspace, turn on machine\n- in the menu that you see after pasting the link, right click new > Terminal\n\n![](https://assets.digitalocean.com/articles/jupyter_notebook/create_python2_notebook.png)"
    },
    {
      "metadata": {
        "_uuid": "69d66d50b5e9af67af6e1f17f62346249f69a1f2"
      },
      "cell_type": "markdown",
      "source": "### Step 2) Install Kaggle-cli\npaste this command in the terminal\n\n``$ pip install kaggle-cli``"
    },
    {
      "metadata": {
        "_uuid": "3c83c8c7d49ef861f337c50812ee73407707d70f"
      },
      "cell_type": "markdown",
      "source": "### Step 3) Find / make right directory\n\n>  `` ls ``   (stands for list files)\n\n> `` cd courses`` ( cd stands for change directory)\n\n> `` ls``\n\nnow you see dl1 dl2 ml1\n\n> ``cd dl1`` \n\n> ``ls``\n\n> `` cd data``\n\n> `` ls``\n\n> ``mkdir planet`` \n\n[](http://)mkdir stands for makedirectory, here we make a new directory named planet, to store the data.\n\n> ``ls``\n\nnow you can see the new directory planet in appears\n> ``cd planet``\n\nwe enter planet"
    },
    {
      "metadata": {
        "_uuid": "3eae60e0dd05299750a2eeb1e1fd7d41f38028ef"
      },
      "cell_type": "markdown",
      "source": "### Step 4) Download files from Kaggle\n\n- We will download them file per file\n\nFirst lets do **test.jpg.tar.7z**\n\n> ``kg download -u <username> -p <password> -c <competition> -f filename.zip``\n\nInsert your username, password and the competition here. It will look like this.\n\n> ``kg download -u daphnecor -p <xxxx> -c planet-understanding-the-amazon-from-space -f test-jpg.tar.7z``\n\nAfter the files are downloaded  use ``ls`` to check if you see ``test-jpg.tar.7z``"
    },
    {
      "metadata": {
        "_uuid": "80d632a4580951baa698ad24b977b440a48ee4a5"
      },
      "cell_type": "markdown",
      "source": "### Step 5) Unzip files\n\n- first install p7zip-full\n> ``sudo apt-get install p7zip-full`` \n\nit asks for yous password, use the password that you got in the email paperspace sent you in the beginning.\n\n- Then unzip the file\n> for this use ``7za x filename.tar.7`` so paste ``7za x test-jpg.tar.7z`` in the terminal.\n\nThe processing will take a few seconds.\nAfter that it will say \"Everything is Ok\" with some other info.\n\nuse ``ls`` to check if the files are are there\n\n- Untar the files\n> \"Untar\" the files using ``tar -xvf filename.tar`` so paste ``tar -xvf test-jpg.tar`` in the terminal"
    },
    {
      "metadata": {
        "_uuid": "d7b715891a60bf671fbeb594edca1870f47c4bab"
      },
      "cell_type": "markdown",
      "source": "### Step 6) Delete duplicates\n\n> use  ``ls`` to see that there are now 3 files, you want to remove the two tar files\n\n- rm stands for remove\n\n> ``rm test-jpg.tar``\n\n> ``rm test-jpg.tar.7z``\n\n- now we just have the ``test-jpg`` file left"
    },
    {
      "metadata": {
        "_uuid": "557dbdc2c81d4cdd2a0189a13f9367d1fca79f18"
      },
      "cell_type": "markdown",
      "source": "## Iterate Step 4,5,6 for ``train.jpg.tar.7z``\n\nJust follow the same steps for the train.jpg.tar.7z file\n\n![](https://cdn2.iconfinder.com/data/icons/navigation-icon/128/return-256.png)"
    },
    {
      "metadata": {
        "_uuid": "0549d96314f86d341b37fa1a17b7ec7c5357d95c"
      },
      "cell_type": "markdown",
      "source": "### The Csv file ``train_v2.csv.zip`` is a bit different\n\nThis one is similar, but has a different process of downloading."
    },
    {
      "metadata": {
        "_uuid": "77fd4697504e7cfeba82a66b49950fbdd1dacb26"
      },
      "cell_type": "markdown",
      "source": "### Step 1) Download from Kaggle\n\n- Download the csv from kaggle\n> ``kg download -u daphnecor -p <xxxx> -c planet-understanding-the-amazon-from-space -f train_v2.csv.zip``\n\n- After downloading use ``ls`` to check if the file is there\n\n### Step 2) Unzip\n\n- Then unzip the file\n> ``unzip train_v2.csv.zip``\n\n- type in ``ls`` to see that there are two files now\n\n### Step 3) Remove duplicates\n\n> ``rm train_v2.csv.zip``"
    },
    {
      "metadata": {
        "_uuid": "d7efa2713734842ee6a6e5203316898c4c6ca3ec"
      },
      "cell_type": "markdown",
      "source": "And thats it! Now you are ready to run the notebook. "
    },
    {
      "metadata": {
        "trusted": true,
        "collapsed": true,
        "_uuid": "f182fa037683ba8f010bfe47b7b736aa6b47d6a2"
      },
      "cell_type": "code",
      "source": "",
      "execution_count": null,
      "outputs": []
    }
  ],
  "metadata": {
    "kernelspec": {
      "display_name": "Python 3",
      "language": "python",
      "name": "python3"
    },
    "language_info": {
      "name": "python",
      "version": "3.6.5",
      "mimetype": "text/x-python",
      "codemirror_mode": {
        "name": "ipython",
        "version": 3
      },
      "pygments_lexer": "ipython3",
      "nbconvert_exporter": "python",
      "file_extension": ".py"
    }
  },
  "nbformat": 4,
  "nbformat_minor": 1
}